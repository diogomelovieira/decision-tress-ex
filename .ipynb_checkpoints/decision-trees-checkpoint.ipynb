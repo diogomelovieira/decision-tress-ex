{
 "cells": [
  {
   "cell_type": "code",
   "execution_count": 43,
   "metadata": {},
   "outputs": [
    {
     "data": {
      "text/plain": [
       "0.7291666666666666"
      ]
     },
     "execution_count": 43,
     "metadata": {},
     "output_type": "execute_result"
    }
   ],
   "source": [
    "from sklearn.tree import DecisionTreeClassifier\n",
    "from sklearn.metrics import accuracy_score\n",
    "import pandas as pd\n",
    "import numpy as np\n",
    "\n",
    "# import the data\n",
    "data = np.asarray(pd.read_csv('data.csv', header = None))\n",
    "\n",
    "#defines the X variable, in this case, the coordinates\n",
    "X = data[:,0:2]\n",
    "#defines the X variable, in this case, the label\n",
    "y = data[0:,2]\n",
    "\n",
    "model = DecisionTreeClassifier(max_depth = 2.0,min_samples_leaf = .20)\n",
    "model.fit(X,y)\n",
    "\n",
    "y_pred = model.predict(X)\n",
    "\n",
    "acc = accuracy_score(y, y_pred)\n",
    "acc\n",
    "\n"
   ]
  }
 ],
 "metadata": {
  "kernelspec": {
   "display_name": "Python 3",
   "language": "python",
   "name": "python3"
  },
  "language_info": {
   "codemirror_mode": {
    "name": "ipython",
    "version": 3
   },
   "file_extension": ".py",
   "mimetype": "text/x-python",
   "name": "python",
   "nbconvert_exporter": "python",
   "pygments_lexer": "ipython3",
   "version": "3.6.5"
  }
 },
 "nbformat": 4,
 "nbformat_minor": 2
}
